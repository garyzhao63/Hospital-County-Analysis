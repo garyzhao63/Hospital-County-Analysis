{
 "cells": [
  {
   "cell_type": "markdown",
   "metadata": {},
   "source": [
    "# COGS 108 - Assignment 4: Project Proposal"
   ]
  },
  {
   "cell_type": "markdown",
   "metadata": {},
   "source": [
    "## Important\n",
    "\n",
    "- Make sure all group member (3-5 people) are listed in the group members section.\n",
    "- ONE, and only one, member of your group should upload this notebook to TritonED. \n",
    "- Each member of the group will receive the same grade on this assignment. \n",
    "- Keep the file name the same: submit the file 'A4_ProjectProposal.ipynb'"
   ]
  },
  {
   "cell_type": "markdown",
   "metadata": {},
   "source": [
    "## Overview"
   ]
  },
  {
   "cell_type": "markdown",
   "metadata": {},
   "source": [
    "Read the project description, and detailed instructions for this assignment, in the 'A4_ProjectOutlineAndProposal' pdf."
   ]
  },
  {
   "cell_type": "markdown",
   "metadata": {},
   "source": [
    "## Group Members: Fill in the Student ID's of each group member here\n",
    "- A13353652 Gary Zhao\n",
    "- A13749314 Austin Nguyen\n",
    "- A13952215 Andy Ruan"
   ]
  },
  {
   "cell_type": "markdown",
   "metadata": {},
   "source": [
    "### Research Question\n",
    "\n",
    "What is your research question? (1-2 sentences)"
   ]
  },
  {
   "cell_type": "markdown",
   "metadata": {},
   "source": [
    "Which counties of the United States are most in need for hospitals? "
   ]
  },
  {
   "cell_type": "markdown",
   "metadata": {},
   "source": [
    "### Hypothesis\n",
    "\n",
    "What is your prediction (2-3 sentences)"
   ]
  },
  {
   "cell_type": "markdown",
   "metadata": {},
   "source": [
    "Rural areas of the United States will need more hospitals than urban areas.\n",
    "This is because the population in urban cities are higher."
   ]
  },
  {
   "cell_type": "markdown",
   "metadata": {},
   "source": [
    "### Dataset(s)\n",
    "\n",
    "What data will you use to answer your question? Describe the dataset in terms of number of observations, what kind of features it contains, etc. You must use at least one dataset containing at least approximately 1000 observations (if your data are smaller but you feel they are sufficient, email Prof. Voytek). You are welcome (and in fact recommended) to find multiple datasets! If you do so, describe each one, and briefly explain how you will combine them together. "
   ]
  },
  {
   "cell_type": "markdown",
   "metadata": {},
   "source": [
    "*Fill in your dataset information here*\n",
    "\n",
    "(Copy this information for each dataset)\n",
    "- Dataset Name: Hospitals\n",
    "- Link to the dataset: https://hifld-dhs-gii.opendata.arcgis.com/datasets/e13641c764344b8ab7dfd41831e56940_0\n",
    "- Number of observations: 7332\n",
    "\n",
    "1-2 sentences describing the dataset. \n",
    "This database contains locations of Hospitals for 50 US states. The database does not contain nursing homes or health centers.\n",
    "\n",
    "---------------------------------------------------------------------------------------------------\n",
    "*Fill in your dataset information here*\n",
    "\n",
    "(Copy this information for each dataset)\n",
    "- Dataset Name: 2010 Census Population Estimation\n",
    "- Link to the dataset: https://www2.census.gov/programs-surveys/popest/datasets/2010/2010-eval-estimates/\n",
    "- Number of observations: 3195\n",
    "\n",
    "1-2 sentences describing the dataset. \n",
    "This dataset contains the 2010 population estimate by county.\n",
    "\n",
    "If you plan to use multiple datasets, add 1-2 sentences about how you plan to combine these datasets.\n",
    "Sort the hospital dataset by county, then add the number of hospitals in that county. Then, we combine the census dataset with the hospital set by their counties."
   ]
  },
  {
   "cell_type": "markdown",
   "metadata": {},
   "source": [
    "### Background & Prior Work\n",
    "\n",
    "Why is this question of interest, what background information led you to your hypothesis, and why is this important?\n",
    "\n",
    "Find some relevant prior work, and reference them. Even if you think you have a totally novel question, find the most similar prior work you can, and discuss how it relates to your project. \n",
    "\n",
    "References can be research publications, but they need not be: blogs, github repositories, company websites, etc., are viable references if they are relevant to your project.\n",
    "\n"
   ]
  },
  {
   "cell_type": "markdown",
   "metadata": {},
   "source": [
    "*Fill in your background and prior work here* \n",
    "After scouring through r/dataisbeautiful we came up with the idea to see if there were a sufficient number of hospitals in America. We quickly googled our question and came across multiple articles on the internet. From this, we quickly saw that Alaska, which has a low population and thus few roads available affect access to medical needs. Thus, we wanted to see if there was a correlation between counties and the number of hospitals accross the United States. \n",
    "\n",
    "We also came across another article on the internet about how poor neighborhoods in the United States don't have enough access to medical needs. It explained how most hospitals opened in rich urban areas which lead to our hypotheses. This is important as it will explain the trend of where hospitals open and help locate areas that have huge deficiencies in medical access.  \n",
    "\n",
    "References (include a link):\n",
    "- 1) This article talks about how poor neighborhoods in the U.S. don't have enough access to medical care.\n",
    "    http://newsinteractive.post-gazette.com/longform/stories/poorhealth/1/\n",
    "- 2) This article talks about why there are less doctors in the rural area.\n",
    "    https://www.theatlantic.com/health/archive/2014/08/why-wont-doctors-move-to-rural-america/379291/"
   ]
  },
  {
   "cell_type": "markdown",
   "metadata": {},
   "source": [
    "### Proposed Methods\n",
    "\n",
    "What methods will you use to analyze your data?\n",
    "\n",
    "- How 'clean' is the data? To the extent that it requires cleaning, how will you do so?\n",
    "- How will you analyze the data? Be as specific as you can. Briefly mention any pre-processing steps that are required for your methods (for example, checking data distributions and performing any transformations that may be required). Include a brief outline of how you will apply your chosen method(s). \n",
    "- What do you plan to report? Briefly mention any key visualizations you plan to create, and/or the kind of result you will be able to report that addresses your question (this could be, for example, the outcome of some statistical test(s), prediction error on a model, a model fit parameter, etc.).\n",
    "- Include a list of packages you expect to use for you project. If you plan to use packages we have not used in class, add a very brief description about them (a few words is sufficient). "
   ]
  },
  {
   "cell_type": "markdown",
   "metadata": {},
   "source": [
    "*Fill in your proposed methods information here:*\n",
    "\n",
    "*Data Cleaning (2-3 sentences)*\n",
    "The census and the hospital data seem to have no holes in their data set. The only cleaning we need to do to merge the two data sets together properly is to remove the word, “county” in the census data for every row in the county column.\n",
    "    \n",
    "*Data Analysis (1-2 paragraphs)*\n",
    "We will be able to do a data analysis by calculating the r correlation coefficient. We will also do an analysis by creating a scatter plot with the x axis conatining the population of the given county and the y axis as the number of hospitals in the given county. For this visual data we are also able to calculate and display a regression line of best fit to see a trend of the hospital to population for counties. From this, we can perhaps make generalizations. \n",
    "\n",
    "*What to report (2-3 sentences)*\n",
    "We will report if there is a trend between population and the number of hospitals in a particular county. From this, we can also make recommendation to counties that have too few hospitals in their area. \n",
    "\n",
    "Packages we plan to use:\n",
    "- a. panda\n",
    "- b. matplotlib.pyplot\n",
    "- c. numpy"
   ]
  },
  {
   "cell_type": "markdown",
   "metadata": {},
   "source": [
    "### Discussion\n",
    "\n",
    "What are the pitfalls and potential confounds of your data and/or methods? For example, how might biases in your data sources or analyses influence your interpretations? What will you do if you methods don't work and/or your hypotheses are wrong?\n",
    "\n",
    "(2-3 paragraphs)"
   ]
  },
  {
   "cell_type": "markdown",
   "metadata": {},
   "source": [
    "The two sets of data that we are working with are from different years. This is because the census is only updated every 10 years. Thus, the data we received for the population from the United States census is relatively older than the data we acquired for the hospitals. The data on the hospitals were received from the various state departments and federal resources which are updated often so it may not be missing hospitals. \n",
    "\n",
    "Biases in our data sources or analyses that may influence our interpretations are that some counties may have other hospitals close by in a neighboring county if there are lower populations in that particular county. Thus, they feel like they do not need to have a hospital in their city. Another bias would be urban areas versus rural area since there is a bigger population of people living in urban areas than rural. Also, the number of hospitals do not represent the number of people using the hospitals. The size of the hospital are also not taken into account from our data of the hospitals because less amount of hospitals does not mean that less people are being served.\n",
    "\n",
    "If our methods do not work or our hypotheses are wrong, then we will reflect on our mistakes and change the category of the data that we are looking at. Like for example instead of the ratio between the number of hospitals and the population of the county, we could change the two variables that we are comparing to receive a more accurate conclusion."
   ]
  }
 ],
 "metadata": {
  "kernelspec": {
   "display_name": "Python 3",
   "language": "python",
   "name": "python3"
  },
  "language_info": {
   "codemirror_mode": {
    "name": "ipython",
    "version": 3
   },
   "file_extension": ".py",
   "mimetype": "text/x-python",
   "name": "python",
   "nbconvert_exporter": "python",
   "pygments_lexer": "ipython3",
   "version": "3.6.0"
  }
 },
 "nbformat": 4,
 "nbformat_minor": 2
}
