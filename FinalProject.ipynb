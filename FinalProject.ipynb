{
 "cells": [
  {
   "cell_type": "markdown",
   "metadata": {},
   "source": [
    "# COGS 108 - Final Project"
   ]
  },
  {
   "cell_type": "markdown",
   "metadata": {},
   "source": [
    "## Group Members: Fill in the Student ID's of each group member here\n",
    "- A13353652 Jiahao Zhao\n",
    "- A13749314 Austin Nguyen\n",
    "- A13952215 Andy Ruan"
   ]
  },
  {
   "cell_type": "markdown",
   "metadata": {},
   "source": [
    "# Introduction"
   ]
  },
  {
   "cell_type": "markdown",
   "metadata": {},
   "source": [
    "### Research Question"
   ]
  },
  {
   "cell_type": "markdown",
   "metadata": {},
   "source": [
    "Which counties of the United States are most in need for hospitals? "
   ]
  },
  {
   "cell_type": "markdown",
   "metadata": {},
   "source": [
    "### Hypothesis"
   ]
  },
  {
   "cell_type": "markdown",
   "metadata": {},
   "source": [
    "Rural areas of the United States will need more hospitals than urban areas.\n",
    "The reason being that the population in urban cities are higher."
   ]
  },
  {
   "cell_type": "markdown",
   "metadata": {},
   "source": [
    "### Abstract"
   ]
  },
  {
   "cell_type": "markdown",
   "metadata": {},
   "source": [
    "*Data Cleaning*\n",
    "    The census and the hospital data seem to have no holes in their data set. The only cleaning we need to do to merge the two data sets together properly is to remove the word, “county” in the census data for every row in the county column.\n",
    "    \n",
    "*Data Analysis*\n",
    "    We will be able to do a data analysis by an r correlation coefficient. Visual data analysis by having scatter plot with an x axis of population in a given county and y axis having the number of hospitals in that county. From this we can calculate a regression line of best fit as well as see a trend of the hospital to county. \n",
    "\n",
    "*What to report*\n",
    "    We will report if there is a trend between population and the number of hospitals in a particular county. From this, we can also make recommendation to counties that have too few hospitals in their area. \n",
    "\n",
    "Packages we plan to use:\n",
    "- a. panda\n",
    "- b. matplotlib.pyplot\n",
    "- c. numpy"
   ]
  },
  {
   "cell_type": "markdown",
   "metadata": {},
   "source": [
    "### Data Description"
   ]
  },
  {
   "cell_type": "markdown",
   "metadata": {},
   "source": [
    "- Dataset Name: Hospitals\n",
    "- Link to the dataset: https://hifld-dhs-gii.opendata.arcgis.com/datasets/e13641c764344b8ab7dfd41831e56940_0\n",
    "- Number of observations: 7332\n",
    "\n",
    "1-2 sentences describing the dataset. \n",
    "    This database contains locations of Hospitals for 50 US states.\n",
    "    The database does not contain nursing homes or health centers.\n",
    "\n",
    "- Dataset Name: 2010 Census Population Estimation\n",
    "- Link to the dataset: https://www2.census.gov/programs-surveys/popest/datasets/2010/2010-eval-estimates/\n",
    "- Number of observations: 3195\n",
    "\n",
    "1-2 sentences describing the dataset. \n",
    "    This dataset contains the 2010 population estimate by county.\n",
    "\n",
    "If you plan to use multiple datasets, add 1-2 sentences about how you plan to combine these datasets.\n",
    "    Sort the hospital dataset by county, then add the number of hospitals in that county.\n",
    "    Then, we combine the census dataset with the hospital set by their counties."
   ]
  },
  {
   "cell_type": "markdown",
   "metadata": {},
   "source": [
    "### Background"
   ]
  },
  {
   "cell_type": "markdown",
   "metadata": {},
   "source": [
    "Referencess (include a link):\n",
    "- 1) This article talks about how poor neighborhoods in the U.S. don't have enough access to medical care.\n",
    "    http://newsinteractive.post-gazette.com/longform/stories/poorhealth/1/\n",
    "- 2) This article talks about why there are less doctors in the rural area.\n",
    "    https://www.theatlantic.com/health/archive/2014/08/why-wont-doctors-move-to-rural-america/379291/"
   ]
  },
  {
   "cell_type": "markdown",
   "metadata": {},
   "source": [
    "## Imports"
   ]
  },
  {
   "cell_type": "code",
   "execution_count": 525,
   "metadata": {
    "collapsed": true
   },
   "outputs": [],
   "source": [
    "# Imports\n",
    "%matplotlib inline\n",
    "\n",
    "import pandas as pd\n",
    "import numpy as np\n",
    "import matplotlib.pyplot as plt\n",
    "import patsy\n",
    "import statsmodels.api as sm\n",
    "from scipy.stats import ttest_ind"
   ]
  },
  {
   "cell_type": "markdown",
   "metadata": {},
   "source": [
    "## Load & Clean the Data"
   ]
  },
  {
   "cell_type": "code",
   "execution_count": 526,
   "metadata": {
    "collapsed": false
   },
   "outputs": [],
   "source": [
    "#Loading data sets\n",
    "hospitals = pd.read_csv('Hospitals.csv')\n",
    "census = pd.read_csv('census.csv')\n",
    "states = pd.read_csv('us_states.csv')"
   ]
  },
  {
   "cell_type": "code",
   "execution_count": 527,
   "metadata": {
    "collapsed": false
   },
   "outputs": [],
   "source": [
    "#Cleaning hospital data set\n",
    "hospitals = hospitals[['STATE', 'COUNTY', 'POPULATION']]"
   ]
  },
  {
   "cell_type": "code",
   "execution_count": 528,
   "metadata": {
    "collapsed": false,
    "scrolled": true
   },
   "outputs": [],
   "source": [
    "#Clean census data set; drop the population of the state\n",
    "census = census[['STNAME', 'CTYNAME','POPESTIMATE2010']]\n",
    "\n",
    "for i, row in census.iterrows():\n",
    "    if (row['STNAME'] == row['CTYNAME']):\n",
    "        census.drop(i, inplace=True)"
   ]
  },
  {
   "cell_type": "code",
   "execution_count": 529,
   "metadata": {
    "collapsed": false
   },
   "outputs": [],
   "source": [
    "#Convert state names to its abbreviation\n",
    "for i, row1 in states.iterrows():\n",
    "    for j, row2 in census.iterrows():\n",
    "        if (row2['STNAME'] == row1['State']):\n",
    "            census.loc[j, 'STNAME'] = states.loc[i, 'Abb']"
   ]
  },
  {
   "cell_type": "code",
   "execution_count": 530,
   "metadata": {
    "collapsed": false
   },
   "outputs": [],
   "source": [
    "#Remove the substring 'County' and make everything upper case to match the hospital data\n",
    "for i, row in census.iterrows():\n",
    "    census.loc[i, 'CTYNAME'] = row['CTYNAME'].replace(' County', '').upper()\n"
   ]
  },
  {
   "cell_type": "code",
   "execution_count": 531,
   "metadata": {
    "collapsed": false
   },
   "outputs": [],
   "source": [
    "#Sorting the names\n",
    "hospitals = hospitals.sort_values('COUNTY')\n",
    "census = census.sort_values('CTYNAME')"
   ]
  },
  {
   "cell_type": "code",
   "execution_count": 532,
   "metadata": {
    "collapsed": false
   },
   "outputs": [],
   "source": [
    "#Grouping number of hospitals by county\n",
    "hospital = pd.DataFrame({'Hospital_Count' : hospitals.groupby( [ \"STATE\", \"COUNTY\"] ).size()}).reset_index()"
   ]
  },
  {
   "cell_type": "code",
   "execution_count": 533,
   "metadata": {
    "collapsed": false
   },
   "outputs": [],
   "source": [
    "#Renaming columns\n",
    "census = census.rename(columns = {'STNAME': 'STATE'})\n",
    "census = census.rename(columns = {'CTYNAME': 'COUNTY'})"
   ]
  },
  {
   "cell_type": "code",
   "execution_count": 534,
   "metadata": {
    "collapsed": true
   },
   "outputs": [],
   "source": [
    "#Combine state and county name to merge them\n",
    "hospital[\"stateCounty\"] = hospital[\"STATE\"].map(str) + \" \" + hospital[\"COUNTY\"]\n",
    "\n",
    "census[\"stateCounty\"] = census[\"STATE\"].map(str) + \" \" + census[\"COUNTY\"]\n",
    "census = census.drop(['STATE', 'COUNTY'], axis=1)\n",
    "\n",
    "hospital = hospital.drop(['STATE', 'COUNTY'], axis=1)"
   ]
  },
  {
   "cell_type": "code",
   "execution_count": 535,
   "metadata": {
    "collapsed": false
   },
   "outputs": [],
   "source": [
    "#Merging cesnsus with hospital dataframe\n",
    "hos_pop = pd.merge(census, hospital, on='stateCounty')"
   ]
  },
  {
   "cell_type": "code",
   "execution_count": 536,
   "metadata": {
    "collapsed": false
   },
   "outputs": [
    {
     "data": {
      "text/html": [
       "<div>\n",
       "<table border=\"1\" class=\"dataframe\">\n",
       "  <thead>\n",
       "    <tr style=\"text-align: right;\">\n",
       "      <th></th>\n",
       "      <th>POPESTIMATE2010</th>\n",
       "      <th>stateCounty</th>\n",
       "      <th>Hospital_Count</th>\n",
       "      <th>hos_per_cap</th>\n",
       "    </tr>\n",
       "  </thead>\n",
       "  <tbody>\n",
       "    <tr>\n",
       "      <th>50</th>\n",
       "      <td>524834</td>\n",
       "      <td>MD ANNE ARUNDEL</td>\n",
       "      <td>2</td>\n",
       "      <td>0.381073</td>\n",
       "    </tr>\n",
       "    <tr>\n",
       "      <th>2349</th>\n",
       "      <td>261117</td>\n",
       "      <td>CO WELD</td>\n",
       "      <td>1</td>\n",
       "      <td>0.382970</td>\n",
       "    </tr>\n",
       "    <tr>\n",
       "      <th>1834</th>\n",
       "      <td>2319777</td>\n",
       "      <td>NY QUEENS</td>\n",
       "      <td>10</td>\n",
       "      <td>0.431076</td>\n",
       "    </tr>\n",
       "    <tr>\n",
       "      <th>766</th>\n",
       "      <td>230250</td>\n",
       "      <td>MD FREDERICK</td>\n",
       "      <td>1</td>\n",
       "      <td>0.434311</td>\n",
       "    </tr>\n",
       "    <tr>\n",
       "      <th>1104</th>\n",
       "      <td>220066</td>\n",
       "      <td>MO JEFFERSON</td>\n",
       "      <td>1</td>\n",
       "      <td>0.454409</td>\n",
       "    </tr>\n",
       "    <tr>\n",
       "      <th>1966</th>\n",
       "      <td>219974</td>\n",
       "      <td>NY SARATOGA</td>\n",
       "      <td>1</td>\n",
       "      <td>0.454599</td>\n",
       "    </tr>\n",
       "    <tr>\n",
       "      <th>359</th>\n",
       "      <td>217186</td>\n",
       "      <td>GA CHEROKEE</td>\n",
       "      <td>1</td>\n",
       "      <td>0.460435</td>\n",
       "    </tr>\n",
       "    <tr>\n",
       "      <th>2215</th>\n",
       "      <td>201993</td>\n",
       "      <td>NC UNION</td>\n",
       "      <td>1</td>\n",
       "      <td>0.495067</td>\n",
       "    </tr>\n",
       "    <tr>\n",
       "      <th>1815</th>\n",
       "      <td>392412</td>\n",
       "      <td>VA PRINCE WILLIAM</td>\n",
       "      <td>2</td>\n",
       "      <td>0.509668</td>\n",
       "    </tr>\n",
       "    <tr>\n",
       "      <th>432</th>\n",
       "      <td>195766</td>\n",
       "      <td>OH CLERMONT</td>\n",
       "      <td>1</td>\n",
       "      <td>0.510814</td>\n",
       "    </tr>\n",
       "    <tr>\n",
       "      <th>2066</th>\n",
       "      <td>192456</td>\n",
       "      <td>FL ST. JOHNS</td>\n",
       "      <td>1</td>\n",
       "      <td>0.519599</td>\n",
       "    </tr>\n",
       "    <tr>\n",
       "      <th>1115</th>\n",
       "      <td>541275</td>\n",
       "      <td>CO JEFFERSON</td>\n",
       "      <td>3</td>\n",
       "      <td>0.554247</td>\n",
       "    </tr>\n",
       "    <tr>\n",
       "      <th>738</th>\n",
       "      <td>179003</td>\n",
       "      <td>GA FORSYTH</td>\n",
       "      <td>1</td>\n",
       "      <td>0.558650</td>\n",
       "    </tr>\n",
       "    <tr>\n",
       "      <th>258</th>\n",
       "      <td>174432</td>\n",
       "      <td>NC CABARRUS</td>\n",
       "      <td>1</td>\n",
       "      <td>0.573289</td>\n",
       "    </tr>\n",
       "    <tr>\n",
       "      <th>2380</th>\n",
       "      <td>688081</td>\n",
       "      <td>IL WILL</td>\n",
       "      <td>4</td>\n",
       "      <td>0.581327</td>\n",
       "    </tr>\n",
       "    <tr>\n",
       "      <th>1136</th>\n",
       "      <td>171734</td>\n",
       "      <td>NC JOHNSTON</td>\n",
       "      <td>1</td>\n",
       "      <td>0.582296</td>\n",
       "    </tr>\n",
       "    <tr>\n",
       "      <th>1160</th>\n",
       "      <td>167905</td>\n",
       "      <td>RI KENT</td>\n",
       "      <td>1</td>\n",
       "      <td>0.595575</td>\n",
       "    </tr>\n",
       "    <tr>\n",
       "      <th>51</th>\n",
       "      <td>332764</td>\n",
       "      <td>MN ANOKA</td>\n",
       "      <td>2</td>\n",
       "      <td>0.601027</td>\n",
       "    </tr>\n",
       "    <tr>\n",
       "      <th>1520</th>\n",
       "      <td>166209</td>\n",
       "      <td>PA MONROE</td>\n",
       "      <td>1</td>\n",
       "      <td>0.601652</td>\n",
       "    </tr>\n",
       "    <tr>\n",
       "      <th>1485</th>\n",
       "      <td>165796</td>\n",
       "      <td>CT MIDDLESEX</td>\n",
       "      <td>1</td>\n",
       "      <td>0.603151</td>\n",
       "    </tr>\n",
       "    <tr>\n",
       "      <th>1535</th>\n",
       "      <td>162140</td>\n",
       "      <td>TN MONTGOMERY</td>\n",
       "      <td>1</td>\n",
       "      <td>0.616751</td>\n",
       "    </tr>\n",
       "    <tr>\n",
       "      <th>1767</th>\n",
       "      <td>161195</td>\n",
       "      <td>NC PITT</td>\n",
       "      <td>1</td>\n",
       "      <td>0.620367</td>\n",
       "    </tr>\n",
       "    <tr>\n",
       "      <th>18</th>\n",
       "      <td>158003</td>\n",
       "      <td>SC AIKEN</td>\n",
       "      <td>1</td>\n",
       "      <td>0.632899</td>\n",
       "    </tr>\n",
       "    <tr>\n",
       "      <th>1126</th>\n",
       "      <td>157548</td>\n",
       "      <td>TX JOHNSON</td>\n",
       "      <td>1</td>\n",
       "      <td>0.634727</td>\n",
       "    </tr>\n",
       "    <tr>\n",
       "      <th>1796</th>\n",
       "      <td>157220</td>\n",
       "      <td>OH PORTAGE</td>\n",
       "      <td>1</td>\n",
       "      <td>0.636051</td>\n",
       "    </tr>\n",
       "    <tr>\n",
       "      <th>2261</th>\n",
       "      <td>920122</td>\n",
       "      <td>NC WAKE</td>\n",
       "      <td>6</td>\n",
       "      <td>0.652087</td>\n",
       "    </tr>\n",
       "    <tr>\n",
       "      <th>381</th>\n",
       "      <td>152734</td>\n",
       "      <td>VT CHITTENDEN</td>\n",
       "      <td>1</td>\n",
       "      <td>0.654733</td>\n",
       "    </tr>\n",
       "    <tr>\n",
       "      <th>1175</th>\n",
       "      <td>2584652</td>\n",
       "      <td>NY KINGS</td>\n",
       "      <td>17</td>\n",
       "      <td>0.657729</td>\n",
       "    </tr>\n",
       "    <tr>\n",
       "      <th>1524</th>\n",
       "      <td>151924</td>\n",
       "      <td>MI MONROE</td>\n",
       "      <td>1</td>\n",
       "      <td>0.658224</td>\n",
       "    </tr>\n",
       "    <tr>\n",
       "      <th>21</th>\n",
       "      <td>151870</td>\n",
       "      <td>NC ALAMANCE</td>\n",
       "      <td>1</td>\n",
       "      <td>0.658458</td>\n",
       "    </tr>\n",
       "    <tr>\n",
       "      <th>...</th>\n",
       "      <td>...</td>\n",
       "      <td>...</td>\n",
       "      <td>...</td>\n",
       "      <td>...</td>\n",
       "    </tr>\n",
       "    <tr>\n",
       "      <th>2359</th>\n",
       "      <td>2033</td>\n",
       "      <td>MT WHEATLAND</td>\n",
       "      <td>1</td>\n",
       "      <td>49.188392</td>\n",
       "    </tr>\n",
       "    <tr>\n",
       "      <th>1119</th>\n",
       "      <td>2008</td>\n",
       "      <td>SD JERAULD</td>\n",
       "      <td>1</td>\n",
       "      <td>49.800797</td>\n",
       "    </tr>\n",
       "    <tr>\n",
       "      <th>880</th>\n",
       "      <td>3968</td>\n",
       "      <td>SD GREGORY</td>\n",
       "      <td>2</td>\n",
       "      <td>50.403226</td>\n",
       "    </tr>\n",
       "    <tr>\n",
       "      <th>928</th>\n",
       "      <td>3914</td>\n",
       "      <td>TX HARDEMAN</td>\n",
       "      <td>2</td>\n",
       "      <td>51.098620</td>\n",
       "    </tr>\n",
       "    <tr>\n",
       "      <th>641</th>\n",
       "      <td>1925</td>\n",
       "      <td>NE DUNDY</td>\n",
       "      <td>1</td>\n",
       "      <td>51.948052</td>\n",
       "    </tr>\n",
       "    <tr>\n",
       "      <th>480</th>\n",
       "      <td>1894</td>\n",
       "      <td>KS COMANCHE</td>\n",
       "      <td>1</td>\n",
       "      <td>52.798310</td>\n",
       "    </tr>\n",
       "    <tr>\n",
       "      <th>1460</th>\n",
       "      <td>1889</td>\n",
       "      <td>MT MEAGHER</td>\n",
       "      <td>1</td>\n",
       "      <td>52.938062</td>\n",
       "    </tr>\n",
       "    <tr>\n",
       "      <th>998</th>\n",
       "      <td>1875</td>\n",
       "      <td>KS HODGEMAN</td>\n",
       "      <td>1</td>\n",
       "      <td>53.333333</td>\n",
       "    </tr>\n",
       "    <tr>\n",
       "      <th>789</th>\n",
       "      <td>1796</td>\n",
       "      <td>NE GARDEN</td>\n",
       "      <td>1</td>\n",
       "      <td>55.679287</td>\n",
       "    </tr>\n",
       "    <tr>\n",
       "      <th>895</th>\n",
       "      <td>1761</td>\n",
       "      <td>SD HAAKON</td>\n",
       "      <td>1</td>\n",
       "      <td>56.785917</td>\n",
       "    </tr>\n",
       "    <tr>\n",
       "      <th>1290</th>\n",
       "      <td>1754</td>\n",
       "      <td>MT LIBERTY</td>\n",
       "      <td>1</td>\n",
       "      <td>57.012543</td>\n",
       "    </tr>\n",
       "    <tr>\n",
       "      <th>555</th>\n",
       "      <td>1723</td>\n",
       "      <td>MT DANIELS</td>\n",
       "      <td>1</td>\n",
       "      <td>58.038305</td>\n",
       "    </tr>\n",
       "    <tr>\n",
       "      <th>371</th>\n",
       "      <td>1704</td>\n",
       "      <td>CO CHEYENNE</td>\n",
       "      <td>1</td>\n",
       "      <td>58.685446</td>\n",
       "    </tr>\n",
       "    <tr>\n",
       "      <th>1436</th>\n",
       "      <td>1678</td>\n",
       "      <td>MT MCCONE</td>\n",
       "      <td>1</td>\n",
       "      <td>59.594756</td>\n",
       "    </tr>\n",
       "    <tr>\n",
       "      <th>2163</th>\n",
       "      <td>1592</td>\n",
       "      <td>TX THROCKMORTON</td>\n",
       "      <td>1</td>\n",
       "      <td>62.814070</td>\n",
       "    </tr>\n",
       "    <tr>\n",
       "      <th>2232</th>\n",
       "      <td>3154</td>\n",
       "      <td>TX UPTON</td>\n",
       "      <td>2</td>\n",
       "      <td>63.411541</td>\n",
       "    </tr>\n",
       "    <tr>\n",
       "      <th>95</th>\n",
       "      <td>4579</td>\n",
       "      <td>KS BARBER</td>\n",
       "      <td>3</td>\n",
       "      <td>65.516488</td>\n",
       "    </tr>\n",
       "    <tr>\n",
       "      <th>1894</th>\n",
       "      <td>1452</td>\n",
       "      <td>NE ROCK</td>\n",
       "      <td>1</td>\n",
       "      <td>68.870523</td>\n",
       "    </tr>\n",
       "    <tr>\n",
       "      <th>2101</th>\n",
       "      <td>1401</td>\n",
       "      <td>TX STONEWALL</td>\n",
       "      <td>1</td>\n",
       "      <td>71.377587</td>\n",
       "    </tr>\n",
       "    <tr>\n",
       "      <th>858</th>\n",
       "      <td>1293</td>\n",
       "      <td>KS GREELEY</td>\n",
       "      <td>1</td>\n",
       "      <td>77.339520</td>\n",
       "    </tr>\n",
       "    <tr>\n",
       "      <th>1331</th>\n",
       "      <td>2559</td>\n",
       "      <td>KS LOGAN</td>\n",
       "      <td>2</td>\n",
       "      <td>78.155530</td>\n",
       "    </tr>\n",
       "    <tr>\n",
       "      <th>1177</th>\n",
       "      <td>1251</td>\n",
       "      <td>CO KIOWA</td>\n",
       "      <td>1</td>\n",
       "      <td>79.936051</td>\n",
       "    </tr>\n",
       "    <tr>\n",
       "      <th>1445</th>\n",
       "      <td>2481</td>\n",
       "      <td>ND MCINTOSH</td>\n",
       "      <td>2</td>\n",
       "      <td>80.612656</td>\n",
       "    </tr>\n",
       "    <tr>\n",
       "      <th>308</th>\n",
       "      <td>1176</td>\n",
       "      <td>MT CARTER</td>\n",
       "      <td>1</td>\n",
       "      <td>85.034014</td>\n",
       "    </tr>\n",
       "    <tr>\n",
       "      <th>1807</th>\n",
       "      <td>1148</td>\n",
       "      <td>MT PRAIRIE</td>\n",
       "      <td>1</td>\n",
       "      <td>87.108014</td>\n",
       "    </tr>\n",
       "    <tr>\n",
       "      <th>793</th>\n",
       "      <td>1143</td>\n",
       "      <td>MT GARFIELD</td>\n",
       "      <td>1</td>\n",
       "      <td>87.489064</td>\n",
       "    </tr>\n",
       "    <tr>\n",
       "      <th>1801</th>\n",
       "      <td>2122</td>\n",
       "      <td>SD POTTER</td>\n",
       "      <td>2</td>\n",
       "      <td>94.250707</td>\n",
       "    </tr>\n",
       "    <tr>\n",
       "      <th>1598</th>\n",
       "      <td>2822</td>\n",
       "      <td>KS NESS</td>\n",
       "      <td>3</td>\n",
       "      <td>106.307583</td>\n",
       "    </tr>\n",
       "    <tr>\n",
       "      <th>1231</th>\n",
       "      <td>1708</td>\n",
       "      <td>KS LANE</td>\n",
       "      <td>2</td>\n",
       "      <td>117.096019</td>\n",
       "    </tr>\n",
       "    <tr>\n",
       "      <th>405</th>\n",
       "      <td>2035</td>\n",
       "      <td>KS CLARK</td>\n",
       "      <td>3</td>\n",
       "      <td>147.420147</td>\n",
       "    </tr>\n",
       "  </tbody>\n",
       "</table>\n",
       "<p>2444 rows × 4 columns</p>\n",
       "</div>"
      ],
      "text/plain": [
       "      POPESTIMATE2010        stateCounty  Hospital_Count  hos_per_cap\n",
       "50             524834    MD ANNE ARUNDEL               2     0.381073\n",
       "2349           261117            CO WELD               1     0.382970\n",
       "1834          2319777          NY QUEENS              10     0.431076\n",
       "766            230250       MD FREDERICK               1     0.434311\n",
       "1104           220066       MO JEFFERSON               1     0.454409\n",
       "1966           219974        NY SARATOGA               1     0.454599\n",
       "359            217186        GA CHEROKEE               1     0.460435\n",
       "2215           201993           NC UNION               1     0.495067\n",
       "1815           392412  VA PRINCE WILLIAM               2     0.509668\n",
       "432            195766        OH CLERMONT               1     0.510814\n",
       "2066           192456       FL ST. JOHNS               1     0.519599\n",
       "1115           541275       CO JEFFERSON               3     0.554247\n",
       "738            179003         GA FORSYTH               1     0.558650\n",
       "258            174432        NC CABARRUS               1     0.573289\n",
       "2380           688081            IL WILL               4     0.581327\n",
       "1136           171734        NC JOHNSTON               1     0.582296\n",
       "1160           167905            RI KENT               1     0.595575\n",
       "51             332764           MN ANOKA               2     0.601027\n",
       "1520           166209          PA MONROE               1     0.601652\n",
       "1485           165796       CT MIDDLESEX               1     0.603151\n",
       "1535           162140      TN MONTGOMERY               1     0.616751\n",
       "1767           161195            NC PITT               1     0.620367\n",
       "18             158003           SC AIKEN               1     0.632899\n",
       "1126           157548         TX JOHNSON               1     0.634727\n",
       "1796           157220         OH PORTAGE               1     0.636051\n",
       "2261           920122            NC WAKE               6     0.652087\n",
       "381            152734      VT CHITTENDEN               1     0.654733\n",
       "1175          2584652           NY KINGS              17     0.657729\n",
       "1524           151924          MI MONROE               1     0.658224\n",
       "21             151870        NC ALAMANCE               1     0.658458\n",
       "...               ...                ...             ...          ...\n",
       "2359             2033       MT WHEATLAND               1    49.188392\n",
       "1119             2008         SD JERAULD               1    49.800797\n",
       "880              3968         SD GREGORY               2    50.403226\n",
       "928              3914        TX HARDEMAN               2    51.098620\n",
       "641              1925           NE DUNDY               1    51.948052\n",
       "480              1894        KS COMANCHE               1    52.798310\n",
       "1460             1889         MT MEAGHER               1    52.938062\n",
       "998              1875        KS HODGEMAN               1    53.333333\n",
       "789              1796          NE GARDEN               1    55.679287\n",
       "895              1761          SD HAAKON               1    56.785917\n",
       "1290             1754         MT LIBERTY               1    57.012543\n",
       "555              1723         MT DANIELS               1    58.038305\n",
       "371              1704        CO CHEYENNE               1    58.685446\n",
       "1436             1678          MT MCCONE               1    59.594756\n",
       "2163             1592    TX THROCKMORTON               1    62.814070\n",
       "2232             3154           TX UPTON               2    63.411541\n",
       "95               4579          KS BARBER               3    65.516488\n",
       "1894             1452            NE ROCK               1    68.870523\n",
       "2101             1401       TX STONEWALL               1    71.377587\n",
       "858              1293         KS GREELEY               1    77.339520\n",
       "1331             2559           KS LOGAN               2    78.155530\n",
       "1177             1251           CO KIOWA               1    79.936051\n",
       "1445             2481        ND MCINTOSH               2    80.612656\n",
       "308              1176          MT CARTER               1    85.034014\n",
       "1807             1148         MT PRAIRIE               1    87.108014\n",
       "793              1143        MT GARFIELD               1    87.489064\n",
       "1801             2122          SD POTTER               2    94.250707\n",
       "1598             2822            KS NESS               3   106.307583\n",
       "1231             1708            KS LANE               2   117.096019\n",
       "405              2035           KS CLARK               3   147.420147\n",
       "\n",
       "[2444 rows x 4 columns]"
      ]
     },
     "execution_count": 536,
     "metadata": {},
     "output_type": "execute_result"
    }
   ],
   "source": [
    "#get the number of hospital per 100000 people\n",
    "hos_pop[\"hos_per_cap\"] = hos_pop[\"Hospital_Count\"].map(int) / hos_pop[\"POPESTIMATE2010\"] * 100000\n",
    "\n",
    "#sort by hospital per capita\n",
    "hos_pop = hos_pop.sort_values('hos_per_cap')\n",
    "hos_pop\n"
   ]
  },
  {
   "cell_type": "markdown",
   "metadata": {},
   "source": [
    "# Data Visualization"
   ]
  },
  {
   "cell_type": "code",
   "execution_count": 537,
   "metadata": {
    "collapsed": false
   },
   "outputs": [
    {
     "data": {
      "image/png": "[encoded data removed]",
      "text/plain": [
       "<matplotlib.figure.Figure at 0x120a6c7f0>"
      ]
     },
     "metadata": {},
     "output_type": "display_data"
    }
   ],
   "source": [
    "#visual display with graphs\n",
    "fig = pd.scatter_matrix(hos_pop)"
   ]
  },
  {
   "cell_type": "code",
   "execution_count": 538,
   "metadata": {
    "collapsed": false,
    "scrolled": true
   },
   "outputs": [
    {
     "data": {
      "text/plain": [
       "(array([  2.37300000e+03,   5.20000000e+01,   1.00000000e+01,\n",
       "          5.00000000e+00,   0.00000000e+00,   2.00000000e+00,\n",
       "          0.00000000e+00,   1.00000000e+00,   0.00000000e+00,\n",
       "          1.00000000e+00]),\n",
       " array([   1. ,   13.8,   26.6,   39.4,   52.2,   65. ,   77.8,   90.6,\n",
       "         103.4,  116.2,  129. ]),\n",
       " <a list of 10 Patch objects>)"
      ]
     },
     "execution_count": 538,
     "metadata": {},
     "output_type": "execute_result"
    },
    {
     "data": {
      "image/png": "[encoded data removed]",
      "text/plain": [
       "<matplotlib.figure.Figure at 0x115ed20b8>"
      ]
     },
     "metadata": {},
     "output_type": "display_data"
    }
   ],
   "source": [
    "#hos_pop['hos_per_cap'].value_counts().plot(kind='bar')\n",
    "#plt.hist(hos_pop['POPESTIMATE2010']['Hospital_Count'])\n",
    "plt.hist(hos_pop[hos_pop['POPESTIMATE2010'] != 0]['Hospital_Count'])"
   ]
  },
  {
   "cell_type": "markdown",
   "metadata": {},
   "source": [
    "# Data Analysis"
   ]
  },
  {
   "cell_type": "code",
   "execution_count": 539,
   "metadata": {
    "collapsed": false
   },
   "outputs": [
    {
     "name": "stdout",
     "output_type": "stream",
     "text": [
      "                            OLS Regression Results                            \n",
      "==============================================================================\n",
      "Dep. Variable:         Hospital_Count   R-squared:                       0.862\n",
      "Model:                            OLS   Adj. R-squared:                  0.862\n",
      "Method:                 Least Squares   F-statistic:                 1.525e+04\n",
      "Date:                Tue, 13 Jun 2017   Prob (F-statistic):               0.00\n",
      "Time:                        23:45:42   Log-Likelihood:                -5225.6\n",
      "No. Observations:                2444   AIC:                         1.046e+04\n",
      "Df Residuals:                    2442   BIC:                         1.047e+04\n",
      "Df Model:                           1                                         \n",
      "Covariance Type:            nonrobust                                         \n",
      "===================================================================================\n",
      "                      coef    std err          t      P>|t|      [95.0% Conf. Int.]\n",
      "-----------------------------------------------------------------------------------\n",
      "Intercept           1.0719      0.044     24.450      0.000         0.986     1.158\n",
      "POPESTIMATE2010  1.444e-05   1.17e-07    123.479      0.000      1.42e-05  1.47e-05\n",
      "==============================================================================\n",
      "Omnibus:                     1585.724   Durbin-Watson:                   1.523\n",
      "Prob(Omnibus):                  0.000   Jarque-Bera (JB):           291505.911\n",
      "Skew:                           2.027   Prob(JB):                         0.00\n",
      "Kurtosis:                      56.349   Cond. No.                     3.96e+05\n",
      "==============================================================================\n",
      "\n",
      "Warnings:\n",
      "[1] Standard Errors assume that the covariance matrix of the errors is correctly specified.\n",
      "[2] The condition number is large, 3.96e+05. This might indicate that there are\n",
      "strong multicollinearity or other numerical problems.\n"
     ]
    }
   ],
   "source": [
    "outcome, predictors = patsy.dmatrices('Hospital_Count ~ POPESTIMATE2010', hos_pop)\n",
    "mod = sm.OLS(outcome, predictors)\n",
    "res = mod.fit()\n",
    "print(res.summary())"
   ]
  },
  {
   "cell_type": "code",
   "execution_count": 540,
   "metadata": {
    "collapsed": false
   },
   "outputs": [
    {
     "name": "stdout",
     "output_type": "stream",
     "text": [
      "                            OLS Regression Results                            \n",
      "==============================================================================\n",
      "Dep. Variable:        POPESTIMATE2010   R-squared:                       0.862\n",
      "Model:                            OLS   Adj. R-squared:                  0.862\n",
      "Method:                 Least Squares   F-statistic:                 1.525e+04\n",
      "Date:                Tue, 13 Jun 2017   Prob (F-statistic):               0.00\n",
      "Time:                        23:45:43   Log-Likelihood:                -32284.\n",
      "No. Observations:                2444   AIC:                         6.457e+04\n",
      "Df Residuals:                    2442   BIC:                         6.458e+04\n",
      "Df Model:                           1                                         \n",
      "Covariance Type:            nonrobust                                         \n",
      "==================================================================================\n",
      "                     coef    std err          t      P>|t|      [95.0% Conf. Int.]\n",
      "----------------------------------------------------------------------------------\n",
      "Intercept      -4.745e+04   2995.343    -15.840      0.000     -5.33e+04 -4.16e+04\n",
      "Hospital_Count   5.97e+04    483.504    123.479      0.000      5.88e+04  6.07e+04\n",
      "==============================================================================\n",
      "Omnibus:                     2201.033   Durbin-Watson:                   1.349\n",
      "Prob(Omnibus):                  0.000   Jarque-Bera (JB):           500237.570\n",
      "Skew:                           3.534   Prob(JB):                         0.00\n",
      "Kurtosis:                      72.731   Cond. No.                         6.98\n",
      "==============================================================================\n",
      "\n",
      "Warnings:\n",
      "[1] Standard Errors assume that the covariance matrix of the errors is correctly specified.\n"
     ]
    }
   ],
   "source": [
    "outcome, predictors = patsy.dmatrices('POPESTIMATE2010 ~ Hospital_Count', hos_pop)\n",
    "mod = sm.OLS(outcome, predictors)\n",
    "res = mod.fit()\n",
    "print(res.summary())"
   ]
  },
  {
   "cell_type": "markdown",
   "metadata": {},
   "source": [
    "# Results"
   ]
  },
  {
   "cell_type": "markdown",
   "metadata": {},
   "source": [
    "After cleaning the data set we are able to create visual representations. Upon creating visual representations one can see that there seems to be a strong correlation between the number of hospitals and the population. After calculating Pearson's R coefficient we recieved a value of .862. This value showcases that there is a strong correlation between the two.\n",
    "\n",
    "During our cleaning and merging process we dropped counties that did not have hospitals. By comparing the number of counties we have left, 2444, with the number of counties we started with, 3193, we can see that there are 749 counties without hospitals. To do a deeper analysis we calculated hospitals per hundred thousand people in an attempt to locate counties that were dropped from our data set. From doing this we noticed a surprising fact that small populations in Kansas had numerous hospitals accessible. \n"
   ]
  },
  {
   "cell_type": "markdown",
   "metadata": {},
   "source": [
    "# Conclusion & Discussion"
   ]
  },
  {
   "cell_type": "markdown",
   "metadata": {},
   "source": [
    "From our results we can infer that areas with small populations don't necessarily mean that they are in need of hospitals. In fact, we can say that they there is a trend that counties with a smaller population have more accessibility to hospitals than counties with a big population. Our conclusion may be wrong because we were unable to look at the county populations that we dropped from our algorithm.\n",
    "\n",
    "The two sets that we have received are from different years. It is a possibility that our data obtained from the government are not complete. The data we received from the population is from the United States census which is older than the data we have for the hospitals. The data on the hospitals were received from the various state departments and federal resources which may not be missing some hospitals. \n",
    "\n",
    "Some counties may have other hospitals close by in a neighboring county if there are lower populations in the county. Another bias would be urban areas vs. rural area since there is a bigger population of people living in urban areas than rural. Also the number of hospitals does not represent the number of people using the hospitals. The size of the hospital are also not taken into account from our data of the hospitals because less amount of hospitals does not mean that less people are being served.\n",
    "\n",
    "If our methods do not work or our hypotheses are wrong, then we will reflect on our mistakes and change the category of the data that we are looking at. Like for example instead of the ratio between the number of hospitals and the population of the county, we could change the two variables that we are comparing that receive a more accurate conclusion."
   ]
  }
 ],
 "metadata": {
  "kernelspec": {
   "display_name": "Python 3",
   "language": "python",
   "name": "python3"
  },
  "language_info": {
   "codemirror_mode": {
    "name": "ipython",
    "version": 3
   },
   "file_extension": ".py",
   "mimetype": "text/x-python",
   "name": "python",
   "nbconvert_exporter": "python",
   "pygments_lexer": "ipython3",
   "version": "3.6.0"
  }
 },
 "nbformat": 4,
 "nbformat_minor": 2
}
